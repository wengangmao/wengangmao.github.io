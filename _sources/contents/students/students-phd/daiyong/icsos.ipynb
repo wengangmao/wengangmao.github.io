{
 "cells": [
  {
   "cell_type": "markdown",
   "metadata": {},
   "source": [
    "# ICSOS paper (not updated)"
   ]
  },
  {
   "cell_type": "code",
   "execution_count": 1,
   "metadata": {},
   "outputs": [],
   "source": [
    "import numpy as np\n",
    "import scipy as sp\n",
    "import pandas as pd\n",
    "from copy import deepcopy\n",
    "from pyproj import Proj, Geod\n",
    "import matplotlib.pyplot as plt\n",
    "from scipy.optimize import leastsq"
   ]
  },
  {
   "cell_type": "markdown",
   "metadata": {},
   "source": [
    "### definition functions for the parameters calculate"
   ]
  },
  {
   "cell_type": "code",
   "execution_count": 2,
   "metadata": {},
   "outputs": [],
   "source": [
    "# parameter equation for u\n",
    "def para_u(p_u,u):\n",
    "    pu0,pu1,pu2,pu3,pu4,pu5,pu6,pu7 = p_u\n",
    "    du = pu0*u[0] + pu1*u[1]+ pu2*u[2] + pu3*u[3] + pu4*u[4] + pu5*u[5] + pu6*u[6] + pu7*u[7]\n",
    "    return du\n",
    "def error_u(p_u, u, du):\n",
    "    return para_u(p_u,x) - du\n",
    "\n",
    "# parameter equation for v\n",
    "def para_v(p_v,v):\n",
    "    pv0,pv1,pv2,pv3,pv4,pv5,pv6,pv7,pv8,pv9,pv10,pv11,pv12,pv13 = p_v\n",
    "    dv = pv0*v[0] + pv1*v[1] + pv2*v[2] + pv3*v[3] + pv4*v[4] + pv5*v[5] + pv6*v[6] + pv7*v[7] + pv8*v[8] + pv9*v[9] + pv10*v[10] + pv11*v[11] + pv12*v[12] + pv13*v[13]\n",
    "    return dv\n",
    "def error_v(p_v, v, dv):\n",
    "    return para_v(p_v,x) - dv\n",
    "\n",
    "# parameter equation for r\n",
    "def para_r(p_r,r):\n",
    "    pr0,pr1,pr2,pr3,pr4,pr5,pr6,pr7,pr8,pr9,pr10,pr11,pr12,pr13 = p_r\n",
    "    dr = pr0*r[0] + pr1*r[1] + pr2*r[2] + pr3*r[3] + pr4*r[4] + pr5*r[5] + pr6*r[6] + pr7*r[7] + pr8*r[8] + pr9*r[9] + pr10*r[10] + pr11*r[11] + pr12*r[12] + pr13*r[13]\n",
    "    return dr\n",
    "def error_r(p_r, r, dr):\n",
    "    return para_r(p_r,x) - dr"
   ]
  },
  {
   "cell_type": "markdown",
   "metadata": {},
   "source": [
    "### load zigzag data and pretreatment"
   ]
  },
  {
   "cell_type": "code",
   "execution_count": 75,
   "metadata": {},
   "outputs": [],
   "source": [
    "# data = pd.read_csv(\"./model_data/trunning_30_inter.csv\")\n",
    "data = pd.read_csv(\"./model_data/zigzag_30_inter.csv\")\n",
    "data.speed = data.speed / 1.852\n",
    "service_speed = round(data.speed.mean(), 3)"
   ]
  },
  {
   "cell_type": "code",
   "execution_count": 76,
   "metadata": {},
   "outputs": [],
   "source": [
    "# no course data, use the diff heading instead\n",
    "d_heading = data.heading.diff().fillna(0)\n",
    "data.loc[:,\"dcourse\"] = d_heading\n",
    "\n",
    "# calculate the rudder angle and heading\n",
    "data.loc[:,\"rudder\"] = np.deg2rad(data.rudder-40)\n",
    "data.loc[:,\"heading\"] = np.deg2rad(data.heading)\n",
    "\n",
    "# calculate the u, v and r\n",
    "data.loc[:,\"u\"] = np.cos(np.deg2rad(d_heading)) * data.speed - service_speed\n",
    "data.loc[:,\"v\"] = np.sin(np.deg2rad(d_heading)) * data.speed\n",
    "data.loc[:,\"r\"] = data.heading.diff().fillna(0)\n",
    "# trans longitude and latitude to x y (m)\n",
    "trans_cor = Proj(proj='utm', zone=10, ellps='WGS84', preserve_units=False)\n",
    "x,y = trans_cor(data.lon.values, data.lat.values)\n",
    "dx = x - x[0]\n",
    "dy = y - y[0]\n",
    "data.loc[:,\"x\"] = dx\n",
    "data.loc[:,\"y\"] = dy\n",
    "\n",
    "# data.loc[:,\"du\"] = data.u.diff().fillna(0)\n",
    "# data.loc[:,\"dv\"] = data.v.diff().fillna(0)\n",
    "# data.loc[:,\"dr\"] = data.r.diff().fillna(0)\n",
    "# rudder?\n",
    "# data.loc[:,\"drudder\"] = data.ruddera.diff().fillna(0)"
   ]
  },
  {
   "cell_type": "markdown",
   "metadata": {},
   "source": [
    "### Abkoitz model test"
   ]
  },
  {
   "cell_type": "code",
   "execution_count": null,
   "metadata": {},
   "outputs": [],
   "source": [
    "# 加速度带入计算 求得加速度\n",
    "# 再在时间上积分\n",
    "# du, dv, dr,de(rudder)"
   ]
  },
  {
   "cell_type": "code",
   "execution_count": 116,
   "metadata": {},
   "outputs": [],
   "source": [
    "### raw 60 paramerters\n",
    "### simplify to 36 parameters (8+14+14)\n",
    "### kt models"
   ]
  },
  {
   "cell_type": "code",
   "execution_count": null,
   "metadata": {},
   "outputs": [],
   "source": [
    "# ship = [x, y, u, v, r, e, heading]"
   ]
  },
  {
   "cell_type": "code",
   "execution_count": 61,
   "metadata": {},
   "outputs": [],
   "source": [
    "def Abkoitz_36Param(data):\n",
    "    \"\"\"\n",
    "    Abkoitz with 36 parameters(u: 8, v:14, r: 14)\n",
    "    input: dataframe with the u,v,r,drudder (speed in m/s, angle in radian)\n",
    "    output: paramerers for u, v, r\n",
    "    \"\"\"\n",
    "    # get the u / v / r data from the dataframe\n",
    "    u = data.u.values\n",
    "    v = data.v.values\n",
    "    r = data.r.values\n",
    "    rudder = data.rudder.values\n",
    "#     drudder = data.drudder.values\n",
    "\n",
    "    # calculate the input( du / dv / dr )\n",
    "    du = [u, v**2, r**2, rudder**2, v*r, v*rudder, r*rudder, 1]\n",
    "    dv = [v, r, rudder, abs(v)*v, abs(v)*r, abs(r)*r, abs(r)*v,\\\n",
    "          rudder**3, v**2*rudder, v*rudder**2, r*rudder**2, r**2*rudder, r*u*rudder,1]\n",
    "    dr = [v, r, rudder, abs(v)*v, abs(v)*r, abs(r)*r, abs(r)*v,\\\n",
    "          rudder**3, v**2*rudder, v*rudder**2, r*rudder**2, r**2*rudder, r*u*rudder,1]\n",
    "    # defini the min error\n",
    "    ue = np.zeros(8)\n",
    "    ve = np.zeros(14)\n",
    "    re = np.zeros(14)\n",
    "\n",
    "    # calculate the output( dot_u / dot_v / dot_r)\n",
    "    h = 0.1\n",
    "    dot_u = data.u.diff().fillna(0)/h\n",
    "    dot_v = data.v.diff().fillna(0)/h\n",
    "    dot_r = data.r.diff().fillna(0)/h\n",
    "\n",
    "    # latest square method calculate the parameters\n",
    "    parau = leastsq(error_u,ue,args=(u,dot_u))\n",
    "    parav = leastsq(error_v,ve,args=(v,dot_v))\n",
    "    parar = leastsq(error_r,re,args=(r,dot_r))\n",
    "    Param = dict(Pu=parau[0], Pv=parav[0], Pr=parar[0])\n",
    "    return Param"
   ]
  },
  {
   "cell_type": "code",
   "execution_count": 30,
   "metadata": {},
   "outputs": [],
   "source": [
    "dship = np.zeros((8))\n",
    "Pu = Param['Pu']\n",
    "Pv = Param['Pv']\n",
    "Pr = Param['Pr']\n",
    "# x\n",
    "dship[0] = (ship[2] + service_speed)*np.cos(ship[4]) - (ship[3]*np.sin(ship[4]))\n",
    "# y\n",
    "dship[1] = (ship[2] + service_speed)*np.sin(ship[4]) + (ship[3]*np.cos(ship[4]))\n",
    "# du\n",
    "dship[2] = Pu[0]*ship[2] + Pu[1]*ship[3]**2 + Pu[2]*ship[4]**2 + Pu[3]*ship[5]**2 \\\n",
    "            + Pu[4]*ship[3]*ship[4] + Pu[5]*ship[3]*ship[5] + Pu[6]*ship[4]*ship[5] + Pu[7]\n",
    "# dv\n",
    "dship[3] = Pv[0]*ship[3] + Pv[1]*ship[4] + Pv[2]*ship[5] + Pv[3]*abs(ship[3])*ship[3] \\\n",
    "            + Pv[4]*abs(ship[3])*ship[4] + Pv[5]*abs(ship[4])*ship[4] + Pv[6]*abs(ship[3])*ship[4] \\\n",
    "            + Pv[7]*(ship[5])**3 + Pv[8]*ship[3]**2*ship[5] + Pv[9]*ship[3]*ship[5]**2 \\\n",
    "            + Pv[10]*ship[4]*ship[5]**2 + Pv[11]*ship[4]**2*ship[5] + Pv[12]*ship[2]*ship[4]*ship[5] + Pv[13]\n",
    "# dr\n",
    "dship[4] = Pr[0]*ship[3] + Pr[1]*ship[4] + Pr[2]*ship[5] + Pr[3]*abs(ship[3])*ship[3] \\\n",
    "            + Pr[4]*abs(ship[3])*ship[4] + Pr[5]*abs(ship[4])*ship[4] + Pr[6]*abs(ship[3])*ship[4] \\\n",
    "            + Pr[7]*(ship[5])**3 + Pr[8]*ship[3]**2*ship[5] + Pr[9]*ship[3]*ship[5]**2 \\\n",
    "            + Pr[10]*ship[4]*ship[5]**2 + Pr[11]*ship[4]**2*ship[5] + Pr[12]*ship[2]*ship[4]*ship[5] + Pr[13]\n",
    "# de\n",
    "dship[5] =  ship[7]"
   ]
  },
  {
   "cell_type": "code",
   "execution_count": null,
   "metadata": {},
   "outputs": [],
   "source": [
    "# ship = [x, y, u, v, r, e, heading]"
   ]
  },
  {
   "cell_type": "code",
   "execution_count": 121,
   "metadata": {},
   "outputs": [],
   "source": [
    "def Abkowitz_36model(Param, ship):\n",
    "    \"\"\"\n",
    "        Param: dict, include the parameters for the Pu, Pv and Pr\n",
    "        ship: list, include the ship's x, y, u, v, r, e, heading data\n",
    "    \"\"\"\n",
    "    shipx, shipy, shipu, shipv, shipr, shipe ,shiph= ship\n",
    "    # ship = [x, y, u, v, r, e, heading]\n",
    "    dship = np.zeros((7))\n",
    "    Pu = Param['Pu']\n",
    "    Pv = Param['Pv']\n",
    "    Pr = Param['Pr']\n",
    "    # x\n",
    "    dship[0] = (shipu + service_speed)*np.cos(shiph) - (shipv*np.sin(shiph))\n",
    "    # y\n",
    "    dship[1] = (shipu + service_speed)*np.sin(shiph) + (shipv*np.cos(shiph))\n",
    "    # du\n",
    "    dship[2] = Pu[0]*shipu + Pu[1]*shipv**2 + Pu[2]*shipr**2 + Pu[3]*shipe**2 \\\n",
    "                + Pu[4]*shipv*shipr + Pu[5]*shipv*shipe + Pu[6]*shipr*shipe + Pu[7]\n",
    "    # dv\n",
    "    dship[3] = Pv[0]*shipv + Pv[1]*shipr + Pv[2]*shipe + Pv[3]*abs(shipv)*shipv \\\n",
    "                + Pv[4]*abs(shipv)*shipr + Pv[5]*abs(shipr)*shipr + Pv[6]*abs(shipr)*shipv \\\n",
    "                + Pv[7]*(shipe)**3 + Pv[8]*shipv**2*shipe + Pv[9]*shipv*shipe**2 \\\n",
    "                + Pv[10]*shipr*shipe**2 + Pv[11]*shipr**2*shipe + Pv[12]*shipr*shipv*shipe + Pv[13]\n",
    "    # dr\n",
    "    dship[4] = Pr[0]*ship[3] + Pr[1]*ship[4] + Pr[2]*ship[5] + Pr[3]*abs(ship[3])*ship[3] \\\n",
    "                + Pr[4]*abs(ship[3])*ship[4] + Pr[5]*abs(ship[4])*ship[4] + Pr[6]*abs(ship[3])*ship[4] \\\n",
    "                + Pr[7]*(ship[5])**3 + Pr[8]*ship[3]**2*ship[5] + Pr[9]*ship[3]*ship[5]**2 \\\n",
    "                + Pr[10]*ship[4]*ship[5]**2 + Pr[11]*ship[4]**2*ship[5] + Pr[12]*ship[2]*ship[4] + Pr[13]\n",
    "    # dheading\n",
    "    dship[6] = shipr\n",
    "    return dship"
   ]
  },
  {
   "cell_type": "code",
   "execution_count": 124,
   "metadata": {},
   "outputs": [],
   "source": [
    "def euler2(xdot, x, delta_t):\n",
    "    return (x + xdot*delta_t)"
   ]
  },
  {
   "cell_type": "code",
   "execution_count": 137,
   "metadata": {},
   "outputs": [],
   "source": [
    "Param = Abkoitz_36Param(data)\n",
    "dt = .1\n",
    "predict = []\n",
    "ship = data[[\"x\",\"y\",\"u\",\"v\",\"r\",\"rudder\",\"heading\"]].loc[0].values\n",
    "predict.append(ship)\n",
    "for i in range(len(data)):\n",
    "    rudder = data.rudder[i]\n",
    "#     rpm = choose.rpm[i]\n",
    "#     ship[5] = rpm\n",
    "    ship[6] = rudder\n",
    "    dx = Abkowitz_36model(Param, ship)\n",
    "    ship = deepcopy(euler2(dx, deepcopy(ship), dt))\n",
    "    predict.append(ship)\n",
    "predict = pd.DataFrame(predict,columns=[\"x\",\"y\",\"u\",\"v\",\"r\",\"rudder\",\"heading\"])  "
   ]
  },
  {
   "cell_type": "code",
   "execution_count": 146,
   "metadata": {},
   "outputs": [
    {
     "data": {
      "text/html": [
       "<div>\n",
       "<style scoped>\n",
       "    .dataframe tbody tr th:only-of-type {\n",
       "        vertical-align: middle;\n",
       "    }\n",
       "\n",
       "    .dataframe tbody tr th {\n",
       "        vertical-align: top;\n",
       "    }\n",
       "\n",
       "    .dataframe thead th {\n",
       "        text-align: right;\n",
       "    }\n",
       "</style>\n",
       "<table border=\"1\" class=\"dataframe\">\n",
       "  <thead>\n",
       "    <tr style=\"text-align: right;\">\n",
       "      <th></th>\n",
       "      <th>x</th>\n",
       "      <th>y</th>\n",
       "      <th>u</th>\n",
       "      <th>v</th>\n",
       "      <th>r</th>\n",
       "      <th>rudder</th>\n",
       "      <th>heading</th>\n",
       "    </tr>\n",
       "  </thead>\n",
       "  <tbody>\n",
       "    <tr>\n",
       "      <th>0</th>\n",
       "      <td>0.000000</td>\n",
       "      <td>0.000000</td>\n",
       "      <td>0.003978</td>\n",
       "      <td>0.000000e+00</td>\n",
       "      <td>0.000000e+00</td>\n",
       "      <td>0.531089</td>\n",
       "      <td>0.531089</td>\n",
       "    </tr>\n",
       "    <tr>\n",
       "      <th>1</th>\n",
       "      <td>0.054838</td>\n",
       "      <td>0.032211</td>\n",
       "      <td>0.003978</td>\n",
       "      <td>-1.221162e-08</td>\n",
       "      <td>1.332594e-08</td>\n",
       "      <td>0.531089</td>\n",
       "      <td>0.532008</td>\n",
       "    </tr>\n",
       "    <tr>\n",
       "      <th>2</th>\n",
       "      <td>0.109646</td>\n",
       "      <td>0.064472</td>\n",
       "      <td>0.003978</td>\n",
       "      <td>-2.442325e-08</td>\n",
       "      <td>2.665188e-08</td>\n",
       "      <td>0.531089</td>\n",
       "      <td>0.532831</td>\n",
       "    </tr>\n",
       "    <tr>\n",
       "      <th>3</th>\n",
       "      <td>0.164427</td>\n",
       "      <td>0.096778</td>\n",
       "      <td>0.003978</td>\n",
       "      <td>-3.663487e-08</td>\n",
       "      <td>3.997782e-08</td>\n",
       "      <td>0.531089</td>\n",
       "      <td>0.533652</td>\n",
       "    </tr>\n",
       "    <tr>\n",
       "      <th>4</th>\n",
       "      <td>0.219182</td>\n",
       "      <td>0.129129</td>\n",
       "      <td>0.003978</td>\n",
       "      <td>-4.884650e-08</td>\n",
       "      <td>5.330376e-08</td>\n",
       "      <td>0.531089</td>\n",
       "      <td>0.534458</td>\n",
       "    </tr>\n",
       "    <tr>\n",
       "      <th>...</th>\n",
       "      <td>...</td>\n",
       "      <td>...</td>\n",
       "      <td>...</td>\n",
       "      <td>...</td>\n",
       "      <td>...</td>\n",
       "      <td>...</td>\n",
       "      <td>...</td>\n",
       "    </tr>\n",
       "    <tr>\n",
       "      <th>2092</th>\n",
       "      <td>116.214405</td>\n",
       "      <td>1.948242</td>\n",
       "      <td>0.003995</td>\n",
       "      <td>-2.554642e-05</td>\n",
       "      <td>2.787780e-05</td>\n",
       "      <td>0.531089</td>\n",
       "      <td>0.498714</td>\n",
       "    </tr>\n",
       "    <tr>\n",
       "      <th>2093</th>\n",
       "      <td>116.270260</td>\n",
       "      <td>1.978659</td>\n",
       "      <td>0.003995</td>\n",
       "      <td>-2.555863e-05</td>\n",
       "      <td>2.789112e-05</td>\n",
       "      <td>0.531089</td>\n",
       "      <td>0.498714</td>\n",
       "    </tr>\n",
       "    <tr>\n",
       "      <th>2094</th>\n",
       "      <td>116.326114</td>\n",
       "      <td>2.009076</td>\n",
       "      <td>0.003995</td>\n",
       "      <td>-2.557085e-05</td>\n",
       "      <td>2.790445e-05</td>\n",
       "      <td>0.531089</td>\n",
       "      <td>0.498714</td>\n",
       "    </tr>\n",
       "    <tr>\n",
       "      <th>2095</th>\n",
       "      <td>116.381968</td>\n",
       "      <td>2.039493</td>\n",
       "      <td>0.003995</td>\n",
       "      <td>-2.558306e-05</td>\n",
       "      <td>2.791777e-05</td>\n",
       "      <td>0.531089</td>\n",
       "      <td>0.498714</td>\n",
       "    </tr>\n",
       "    <tr>\n",
       "      <th>2096</th>\n",
       "      <td>116.437822</td>\n",
       "      <td>2.069910</td>\n",
       "      <td>0.003995</td>\n",
       "      <td>-2.559527e-05</td>\n",
       "      <td>2.793110e-05</td>\n",
       "      <td>0.531089</td>\n",
       "      <td>0.498716</td>\n",
       "    </tr>\n",
       "  </tbody>\n",
       "</table>\n",
       "<p>2097 rows × 7 columns</p>\n",
       "</div>"
      ],
      "text/plain": [
       "               x         y         u             v             r    rudder  \\\n",
       "0       0.000000  0.000000  0.003978  0.000000e+00  0.000000e+00  0.531089   \n",
       "1       0.054838  0.032211  0.003978 -1.221162e-08  1.332594e-08  0.531089   \n",
       "2       0.109646  0.064472  0.003978 -2.442325e-08  2.665188e-08  0.531089   \n",
       "3       0.164427  0.096778  0.003978 -3.663487e-08  3.997782e-08  0.531089   \n",
       "4       0.219182  0.129129  0.003978 -4.884650e-08  5.330376e-08  0.531089   \n",
       "...          ...       ...       ...           ...           ...       ...   \n",
       "2092  116.214405  1.948242  0.003995 -2.554642e-05  2.787780e-05  0.531089   \n",
       "2093  116.270260  1.978659  0.003995 -2.555863e-05  2.789112e-05  0.531089   \n",
       "2094  116.326114  2.009076  0.003995 -2.557085e-05  2.790445e-05  0.531089   \n",
       "2095  116.381968  2.039493  0.003995 -2.558306e-05  2.791777e-05  0.531089   \n",
       "2096  116.437822  2.069910  0.003995 -2.559527e-05  2.793110e-05  0.531089   \n",
       "\n",
       "       heading  \n",
       "0     0.531089  \n",
       "1     0.532008  \n",
       "2     0.532831  \n",
       "3     0.533652  \n",
       "4     0.534458  \n",
       "...        ...  \n",
       "2092  0.498714  \n",
       "2093  0.498714  \n",
       "2094  0.498714  \n",
       "2095  0.498714  \n",
       "2096  0.498716  \n",
       "\n",
       "[2097 rows x 7 columns]"
      ]
     },
     "execution_count": 146,
     "metadata": {},
     "output_type": "execute_result"
    }
   ],
   "source": [
    "predict"
   ]
  },
  {
   "cell_type": "code",
   "execution_count": 138,
   "metadata": {},
   "outputs": [
    {
     "data": {
      "text/plain": [
       "[<matplotlib.lines.Line2D at 0x7fea30ba4b20>]"
      ]
     },
     "execution_count": 138,
     "metadata": {},
     "output_type": "execute_result"
    },
    {
     "data": {
      "image/png": "[encoded data removed]",
      "text/plain": [
       "<Figure size 432x288 with 1 Axes>"
      ]
     },
     "metadata": {
      "needs_background": "light"
     },
     "output_type": "display_data"
    }
   ],
   "source": [
    "plt.plot(predict.x, predict.y, \"r.\")\n",
    "plt.plot(data.x,data.y, \"b.\")"
   ]
  },
  {
   "cell_type": "code",
   "execution_count": 151,
   "metadata": {},
   "outputs": [
    {
     "data": {
      "text/plain": [
       "[<matplotlib.lines.Line2D at 0x7fe9d01b0280>]"
      ]
     },
     "execution_count": 151,
     "metadata": {},
     "output_type": "execute_result"
    },
    {
     "data": {
      "image/png": "[encoded data removed]",
      "text/plain": [
       "<Figure size 432x288 with 1 Axes>"
      ]
     },
     "metadata": {
      "needs_background": "light"
     },
     "output_type": "display_data"
    }
   ],
   "source": [
    "plt.plot(xx1.heading, \"b.\")\n",
    "plt.plot(data.heading,  \"r.\")\n",
    "plt.plot(data.rudder,  \"k.\")"
   ]
  },
  {
   "cell_type": "code",
   "execution_count": 82,
   "metadata": {},
   "outputs": [
    {
     "data": {
      "text/plain": [
       "[<matplotlib.lines.Line2D at 0x7fea035aaac0>]"
      ]
     },
     "execution_count": 82,
     "metadata": {},
     "output_type": "execute_result"
    },
    {
     "data": {
      "image/png": "[encoded data removed]",
      "text/plain": [
       "<Figure size 432x288 with 1 Axes>"
      ]
     },
     "metadata": {
      "needs_background": "light"
     },
     "output_type": "display_data"
    }
   ],
   "source": [
    "plt.plot(xx1.x, xx1.y, \"b.\")\n",
    "plt.plot(data.x, data.y, \"r.\")"
   ]
  },
  {
   "cell_type": "markdown",
   "metadata": {},
   "source": [
    "### latest square fucntion test "
   ]
  },
  {
   "cell_type": "code",
   "execution_count": 154,
   "metadata": {},
   "outputs": [],
   "source": [
    "Xi=np.array([6.19,2.51,7.29,7.01,5.7,2.66,3.98,2.5,9.1,4.2])\n",
    "Yi=np.array([5.25,2.83,6.41,6.71,5.1,4.23,5.05,1.98,10.5,6.3])"
   ]
  },
  {
   "cell_type": "code",
   "execution_count": 155,
   "metadata": {},
   "outputs": [],
   "source": [
    "# 拟合函数\n",
    "def func(p,x):\n",
    "    k,b=p\n",
    "    return k*x+b\n",
    "\n",
    "# 误差函数\n",
    "def error(p,x,y):\n",
    "    return func(p,x)-y"
   ]
  },
  {
   "cell_type": "code",
   "execution_count": 158,
   "metadata": {},
   "outputs": [],
   "source": [
    "p0=[1,20]\n",
    "Para = leastsq(error,p0,args=(Xi,Yi))"
   ]
  },
  {
   "cell_type": "code",
   "execution_count": 159,
   "metadata": {},
   "outputs": [
    {
     "name": "stdout",
     "output_type": "stream",
     "text": [
      "k= 0.9004584204388926 b= 0.831055638876812\n",
      "cost：1\n",
      "y=0.9x+0.83\n"
     ]
    }
   ],
   "source": [
    "k,b=Para[0]\n",
    "print(\"k=\",k,\"b=\",b)\n",
    "print(\"cost：\"+str(Para[1]))\n",
    "print(\"y=\"+str(round(k,2))+\"x+\"+str(round(b,2)))"
   ]
  },
  {
   "cell_type": "code",
   "execution_count": 160,
   "metadata": {},
   "outputs": [
    {
     "data": {
      "image/png": "[encoded data removed]",
      "text/plain": [
       "<Figure size 576x432 with 1 Axes>"
      ]
     },
     "metadata": {
      "needs_background": "light"
     },
     "output_type": "display_data"
    }
   ],
   "source": [
    "plt.figure(figsize=(8,6)) ##指定图像比例： 8：6\n",
    "plt.scatter(Xi,Yi,color=\"green\",label=\" \",linewidth=2) \n",
    "\n",
    "#画拟合直线\n",
    "x=np.linspace(0,12,100) ##在0-15直接画100个连续点\n",
    "y=k*x+b ##函数式\n",
    "plt.plot(x,y,color=\"red\",label=\" \",linewidth=2) \n",
    "plt.legend(loc='lower right') #绘制图例\n",
    "plt.show()"
   ]
  },
  {
   "cell_type": "code",
   "execution_count": null,
   "metadata": {},
   "outputs": [],
   "source": []
  }
 ],
 "metadata": {
  "kernelspec": {
   "display_name": "Python 3 (ipykernel)",
   "language": "python",
   "name": "python3"
  },
  "language_info": {
   "codemirror_mode": {
    "name": "ipython",
    "version": 3
   },
   "file_extension": ".py",
   "mimetype": "text/x-python",
   "name": "python",
   "nbconvert_exporter": "python",
   "pygments_lexer": "ipython3",
   "version": "3.8.3"
  },
  "toc": {
   "base_numbering": 1,
   "nav_menu": {},
   "number_sections": true,
   "sideBar": true,
   "skip_h1_title": false,
   "title_cell": "Table of Contents",
   "title_sidebar": "Contents",
   "toc_cell": false,
   "toc_position": {},
   "toc_section_display": true,
   "toc_window_display": true
  }
 },
 "nbformat": 4,
 "nbformat_minor": 4
}
